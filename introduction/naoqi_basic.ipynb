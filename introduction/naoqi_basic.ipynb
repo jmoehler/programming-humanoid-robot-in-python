{
 "cells": [
  {
   "cell_type": "markdown",
   "id": "23602f0c",
   "metadata": {},
   "source": [
    "# NAOqi Basic"
   ]
  },
  {
   "cell_type": "code",
   "execution_count": 1,
   "id": "59b13ff1",
   "metadata": {},
   "outputs": [
    {
     "ename": "ModuleNotFoundError",
     "evalue": "No module named 'naoqi'",
     "output_type": "error",
     "traceback": [
      "\u001b[0;31m---------------------------------------------------------------------------\u001b[0m",
      "\u001b[0;31mModuleNotFoundError\u001b[0m                       Traceback (most recent call last)",
      "Input \u001b[0;32mIn [1]\u001b[0m, in \u001b[0;36m<cell line: 1>\u001b[0;34m()\u001b[0m\n\u001b[0;32m----> 1\u001b[0m \u001b[38;5;28;01mfrom\u001b[39;00m \u001b[38;5;21;01mnaoqi\u001b[39;00m \u001b[38;5;28;01mimport\u001b[39;00m ALProxy\n",
      "\u001b[0;31mModuleNotFoundError\u001b[0m: No module named 'naoqi'"
     ]
    }
   ],
   "source": [
    "from naoqi import ALProxy"
   ]
  },
  {
   "cell_type": "code",
   "execution_count": null,
   "id": "f6a59e03",
   "metadata": {},
   "outputs": [],
   "source": [
    "tts = ALProxy('ALTextToSpeech', 'nao6.local', 9559)"
   ]
  },
  {
   "cell_type": "code",
   "execution_count": 2,
   "id": "beffc739",
   "metadata": {},
   "outputs": [
    {
     "ename": "NameError",
     "evalue": "name 'tts' is not defined",
     "output_type": "error",
     "traceback": [
      "\u001b[0;31m---------------------------------------------------------------------------\u001b[0m",
      "\u001b[0;31mNameError\u001b[0m                                 Traceback (most recent call last)",
      "Input \u001b[0;32mIn [2]\u001b[0m, in \u001b[0;36m<cell line: 1>\u001b[0;34m()\u001b[0m\n\u001b[0;32m----> 1\u001b[0m \u001b[43mtts\u001b[49m\u001b[38;5;241m.\u001b[39msay(\u001b[38;5;124m'\u001b[39m\u001b[38;5;124mHi, I am here. Have you enjoy?\u001b[39m\u001b[38;5;124m'\u001b[39m)\n",
      "\u001b[0;31mNameError\u001b[0m: name 'tts' is not defined"
     ]
    }
   ],
   "source": [
    "tts.say('Hi, I am here. Have you enjoy?')"
   ]
  },
  {
   "cell_type": "code",
   "execution_count": 3,
   "id": "394d9b61",
   "metadata": {},
   "outputs": [
    {
     "ename": "NameError",
     "evalue": "name 'ALProxy' is not defined",
     "output_type": "error",
     "traceback": [
      "\u001b[0;31m---------------------------------------------------------------------------\u001b[0m",
      "\u001b[0;31mNameError\u001b[0m                                 Traceback (most recent call last)",
      "Input \u001b[0;32mIn [3]\u001b[0m, in \u001b[0;36m<cell line: 1>\u001b[0;34m()\u001b[0m\n\u001b[0;32m----> 1\u001b[0m motion \u001b[38;5;241m=\u001b[39m \u001b[43mALProxy\u001b[49m(\u001b[38;5;124m'\u001b[39m\u001b[38;5;124mALMotion\u001b[39m\u001b[38;5;124m'\u001b[39m, \u001b[38;5;124m'\u001b[39m\u001b[38;5;124mnao6.local\u001b[39m\u001b[38;5;124m'\u001b[39m, \u001b[38;5;241m9559\u001b[39m)\n",
      "\u001b[0;31mNameError\u001b[0m: name 'ALProxy' is not defined"
     ]
    }
   ],
   "source": [
    "motion = ALProxy('ALMotion', 'nao6.local', 9559)"
   ]
  },
  {
   "cell_type": "code",
   "execution_count": 4,
   "id": "0f0aba6e",
   "metadata": {},
   "outputs": [
    {
     "ename": "NameError",
     "evalue": "name 'motion' is not defined",
     "output_type": "error",
     "traceback": [
      "\u001b[0;31m---------------------------------------------------------------------------\u001b[0m",
      "\u001b[0;31mNameError\u001b[0m                                 Traceback (most recent call last)",
      "Input \u001b[0;32mIn [4]\u001b[0m, in \u001b[0;36m<cell line: 1>\u001b[0;34m()\u001b[0m\n\u001b[0;32m----> 1\u001b[0m \u001b[43mmotion\u001b[49m\u001b[38;5;241m.\u001b[39mwakeUp()\n",
      "\u001b[0;31mNameError\u001b[0m: name 'motion' is not defined"
     ]
    }
   ],
   "source": [
    "motion.wakeUp()"
   ]
  },
  {
   "cell_type": "code",
   "execution_count": 5,
   "id": "416346fd",
   "metadata": {},
   "outputs": [
    {
     "ename": "NameError",
     "evalue": "name 'motion' is not defined",
     "output_type": "error",
     "traceback": [
      "\u001b[0;31m---------------------------------------------------------------------------\u001b[0m",
      "\u001b[0;31mNameError\u001b[0m                                 Traceback (most recent call last)",
      "Input \u001b[0;32mIn [5]\u001b[0m, in \u001b[0;36m<cell line: 1>\u001b[0;34m()\u001b[0m\n\u001b[0;32m----> 1\u001b[0m \u001b[43mmotion\u001b[49m\u001b[38;5;241m.\u001b[39mrest()\n",
      "\u001b[0;31mNameError\u001b[0m: name 'motion' is not defined"
     ]
    }
   ],
   "source": [
    "motion.rest()"
   ]
  },
  {
   "cell_type": "code",
   "execution_count": null,
   "id": "e72e8c56",
   "metadata": {},
   "outputs": [],
   "source": []
  }
 ],
 "metadata": {
  "kernelspec": {
   "display_name": "Python 3 (ipykernel)",
   "language": "python",
   "name": "python3"
  },
  "language_info": {
   "codemirror_mode": {
    "name": "ipython",
    "version": 3
   },
   "file_extension": ".py",
   "mimetype": "text/x-python",
   "name": "python",
   "nbconvert_exporter": "python",
   "pygments_lexer": "ipython3",
   "version": "3.9.13"
  }
 },
 "nbformat": 4,
 "nbformat_minor": 1
}
